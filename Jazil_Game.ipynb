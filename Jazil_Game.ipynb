{
 "cells": [
  {
   "cell_type": "code",
   "execution_count": 56,
   "metadata": {},
   "outputs": [],
   "source": [
    "import os\n",
    "import sys\n",
    "import requests\n",
    "import pandas as pd\n",
    "import numpy as np\n",
    "import re\n",
    "from dotenv import load_dotenv\n",
    "from langchain.embeddings import SentenceTransformerEmbeddings\n",
    "from langchain.embeddings.base import Embeddings\n",
    "from sklearn.metrics.pairwise import cosine_similarity"
   ]
  },
  {
   "cell_type": "code",
   "execution_count": 57,
   "metadata": {},
   "outputs": [
    {
     "data": {
      "text/plain": [
       "True"
      ]
     },
     "execution_count": 57,
     "metadata": {},
     "output_type": "execute_result"
    }
   ],
   "source": [
    "# Load environment variables\n",
    "load_dotenv()"
   ]
  },
  {
   "cell_type": "code",
   "execution_count": 58,
   "metadata": {},
   "outputs": [],
   "source": [
    "\n",
    "API_KEY = os.getenv(\"IBM_WATSONX_API_KEY\")\n",
    "PROJECT_ID = os.getenv(\"IBM_WATSONX_PROJECT_ID\")\n",
    "API_URL = os.getenv(\"IBM_WATSONX_URL\")\n",
    "MODEL_ID = \"sdaia/allam-1-13b-instruct\""
   ]
  },
  {
   "cell_type": "code",
   "execution_count": 59,
   "metadata": {},
   "outputs": [],
   "source": [
    "# Initialize the embedding function\n",
    "emb_func = SentenceTransformerEmbeddings(model_name=\"all-MiniLM-L6-v2\")"
   ]
  },
  {
   "cell_type": "code",
   "execution_count": 60,
   "metadata": {},
   "outputs": [],
   "source": [
    "def get_access_token():\n",
    "    token_url = \"https://iam.cloud.ibm.com/identity/token\"\n",
    "    headers = {\"Content-Type\": \"application/x-www-form-urlencoded\"}\n",
    "    data = {\n",
    "        \"grant_type\": \"urn:ibm:params:oauth:grant-type:apikey\",\n",
    "        \"apikey\": API_KEY\n",
    "    }\n",
    "    response = requests.post(token_url, headers=headers, data=data)\n",
    "    if response.status_code == 200:\n",
    "        return response.json()[\"access_token\"]\n",
    "    else:\n",
    "        raise Exception(f\"Error retrieving token: {response.text}\")\n"
   ]
  },
  {
   "cell_type": "code",
   "execution_count": 61,
   "metadata": {},
   "outputs": [],
   "source": [
    "def load_and_clean_data(file_path):\n",
    "    df = pd.read_csv(file_path,nrows=1000)\n",
    "    df = df.astype(str).dropna()\n",
    "    df['text'] = df[['العصر', 'الشاعر', 'الديوان', 'القافية', 'البحر', 'الشطر الايسر', 'الشطر الايمن', 'البيت']].agg(' '.join, axis=1)\n",
    "    return df"
   ]
  },
  {
   "cell_type": "code",
   "execution_count": 62,
   "metadata": {},
   "outputs": [],
   "source": [
    "def create_embeddings(df):\n",
    "    embeddings = emb_func.embed_documents(df['text'].tolist())\n",
    "    return np.array(embeddings)"
   ]
  },
  {
   "cell_type": "code",
   "execution_count": 63,
   "metadata": {},
   "outputs": [],
   "source": [
    "def normalize_letter(letter):\n",
    "    return 'ا' if letter in ['أ', 'إ', 'ء', 'ى'] else letter"
   ]
  },
  {
   "cell_type": "code",
   "execution_count": 64,
   "metadata": {},
   "outputs": [],
   "source": [
    "def starts_with_letter(verse, letter):\n",
    "    if letter is None:\n",
    "        return True  # Allow any letter if last_letter is None\n",
    "    verse = re.sub(r'[\\u064B-\\u0652]', '', verse)\n",
    "    letter = re.sub(r'[\\u064B-\\u0652]', '', letter)\n",
    "    return normalize_letter(verse[0]) == normalize_letter(letter)"
   ]
  },
  {
   "cell_type": "code",
   "execution_count": 65,
   "metadata": {},
   "outputs": [],
   "source": [
    "# def create_vectorizer(df):\n",
    "#     vectorizer = TfidfVectorizer()\n",
    "#     tfidf_matrix = vectorizer.fit_transform(df['text'])\n",
    "#     return vectorizer, tfidf_matrix"
   ]
  },
  {
   "cell_type": "code",
   "execution_count": 66,
   "metadata": {},
   "outputs": [],
   "source": [
    "def retrieve_similar_verses(query, last_letter, embeddings, df, top_k=10):\n",
    "    query_embedding = emb_func.embed_query(query)\n",
    "    similarities = cosine_similarity([query_embedding], embeddings)[0]\n",
    "    \n",
    "    mask = df['البيت'].apply(lambda x: starts_with_letter(x, last_letter))\n",
    "    filtered_similarities = similarities * mask\n",
    "    \n",
    "    top_indices = np.argsort(filtered_similarities)[-top_k:][::-1]\n",
    "    return df.iloc[top_indices]"
   ]
  },
  {
   "cell_type": "code",
   "execution_count": 67,
   "metadata": {},
   "outputs": [],
   "source": [
    "def get_last_letter(verse):\n",
    "    verse = re.sub(r'[\\u064B-\\u0652\\W]', '', verse)\n",
    "    elongations = ['ا', 'و', 'ي', 'ها', 'ما', 'با', 'سا', 'دا', 'غا', 'فا', 'طا', 'جا', 'زا', 'شا', 'عَا', 'قَا', 'لا', 'نا', 'وا']\n",
    "    if not verse:\n",
    "        return None\n",
    "    return verse[-2] if verse[-1] in elongations and len(verse) > 1 else verse[-1]"
   ]
  },
  {
   "cell_type": "code",
   "execution_count": 68,
   "metadata": {},
   "outputs": [],
   "source": [
    "def generate_response(prompt, access_token):\n",
    "    url = \"https://eu-de.ml.cloud.ibm.com/ml/v1/text/generation?version=2023-05-29\"\n",
    "    headers = {\n",
    "        \"Content-Type\": \"application/json\",\n",
    "        \"Authorization\": f\"Bearer {access_token}\",\n",
    "    }\n",
    "    data = {\n",
    "        \"input\": prompt,\n",
    "        \"parameters\": {\n",
    "\t\t\"decoding_method\": \"greedy\",\n",
    "\t\t\"max_new_tokens\": 600,\n",
    "\t\t\"min_new_tokens\": 0,\n",
    "\t\t\"stop_sequences\": [],\n",
    "\t\t\"repetition_penalty\": 1\n",
    "\t},\n",
    "        \"model_id\": MODEL_ID,\n",
    "        \"project_id\": PROJECT_ID\n",
    "    }\n",
    "    response = requests.post(url, headers=headers, json=data)\n",
    "    if response.status_code == 200:\n",
    "        return response.json()['results'][0]['generated_text']\n",
    "    else:\n",
    "        print(f\"Error generating response from Allam model: {response.text}\")\n",
    "        return None"
   ]
  },
  {
   "cell_type": "code",
   "execution_count": 69,
   "metadata": {},
   "outputs": [
    {
     "name": "stdout",
     "output_type": "stream",
     "text": [
      "Welcome to Jazil! Let's start the poetic exchange.\n",
      "يمكنك البدء ببيت شعري عشوائي.\n",
      "المستخدم: دع المساجد للــعباد تسكنها ‏وطف بنا حول خمار ليسقينا\n",
      "دور الذكاء الاصطناعي...\n",
      "الذكاء الاصطناعي: \n",
      "            نَبَتَ العِشقُ في قَلبي وَأَورَقَ فيهِ    كَذا العِشقُ يُورِقُ في النُفوسِ وَيَشتارُ\n",
      "            (ملاحظة: هذا البيت الشعري يتبع بحر الطويل وقافيته هي الراء) \n",
      "يجب أن يبدأ بيتك بالحرف 'ء'. حاول مرة أخرى.\n",
      "يجب أن يبدأ بيتك بالحرف 'ء'. حاول مرة أخرى.\n",
      "شكرًا للعب في جزيل!\n"
     ]
    }
   ],
   "source": [
    "def play_jazil():\n",
    "    df = load_and_clean_data('Arabic Poem Comprehensive Dataset (APCD).csv')\n",
    "    embeddings = create_embeddings(df)\n",
    "    access_token = get_access_token()\n",
    "    \n",
    "    print(\"Welcome to Jazil! Let's start the poetic exchange.\")\n",
    "    print(\"يمكنك البدء ببيت شعري عشوائي.\")\n",
    "    \n",
    "    last_letter = None\n",
    "    ai_turn = False\n",
    "    used_verses = set()\n",
    "    conversation_history = []\n",
    "\n",
    "    while True:\n",
    "        if not ai_turn:\n",
    "            user_input = input(\"دورك (أو اكتب 'quit' للخروج): \")\n",
    "            if user_input.lower() == 'quit':\n",
    "                print(\"شكرًا للعب في جزيل!\")\n",
    "                break\n",
    "            \n",
    "            if user_input in used_verses:\n",
    "                print(\"هذا البيت قد تم استخدامه بالفعل. يرجى تقديم بيت مختلف.\")\n",
    "                continue\n",
    "\n",
    "            if last_letter and not starts_with_letter(user_input, last_letter):\n",
    "                print(f\"يجب أن يبدأ بيتك بالحرف '{last_letter}'. حاول مرة أخرى.\")\n",
    "                continue\n",
    "\n",
    "            # Verify the verse using RAG\n",
    "            similar_verses = retrieve_similar_verses(user_input, last_letter, embeddings, df)\n",
    "            context = \"\\n\".join(similar_verses['البيت'].tolist())\n",
    "            \n",
    "            prompt = f\"\"\"\n",
    "            أنت خبير متخصص في الشعر العربي الكلاسيكي. مهمتك هي تحليل النص المقدم وتحديد ما إذا كان بيتًا شعريًا صحيحًا أم لا.\n",
    "            قم بتقييم النص التالي بدقة شديدة وفقًا للمعايير الآتية:\n",
    "            1. الشكل: هل يتكون النص من صدر وعجز متوازنين؟\n",
    "            2. الوزن الشعري: هل يتبع النص أحد البحور الشعرية العربية المعروفة؟\n",
    "            3. القافية: هل توجد قافية واضحة ومناسبة في نهاية البيت؟\n",
    "            4. اللغة: هل يستخدم النص لغة عربية فصحى وتراكيب شعرية تقليدية؟\n",
    "            5. المعنى: هل للنص معنى شعري واضح ومتماسك؟\n",
    "            6. الأصالة: هل يبدو النص كأنه من الشعر العربي الكلاسيكي وليس مجرد جملة عادية أو نصًا حديثًا؟\n",
    "\n",
    "            النص المراد تقييمه:\n",
    "            {user_input}\n",
    "\n",
    "            أمثلة على أبيات شعرية مشابهة:\n",
    "            {context}\n",
    "\n",
    "            بعد التحليل الدقيق، قدم إجابة مفصلة:\n",
    "            1. صنف النص إما كـ \"بيت شعري صحيح\" أو \"ليس بيتًا شعريًا صحيحًا\".\n",
    "            2. اشرح باختصار سبب تصنيفك، مع الإشارة إلى المعايير التي تم استيفاؤها أو انتهاكها.\n",
    "            \"\"\"\n",
    "            verification_response = generate_response(prompt, access_token)\n",
    "\n",
    "            if \"بيت شعري صحيح\" in verification_response.lower():\n",
    "                print(f\"المستخدم: {user_input}\")\n",
    "                used_verses.add(user_input)\n",
    "                last_letter = get_last_letter(user_input)\n",
    "                conversation_history.append(f\"User: {user_input}\")\n",
    "                ai_turn = True\n",
    "            else:\n",
    "                print(\"هذا النص ليس بيتًا شعريًا صحيحًا. يرجى تقديم بيت شعري حقيقي.\")\n",
    "                print(\"سبب الرفض:\", verification_response)\n",
    "                continue\n",
    "\n",
    "        else:\n",
    "            print(\"دور الذكاء الاصطناعي...\")\n",
    "            \n",
    "            similar_verses = retrieve_similar_verses(\" \".join(conversation_history[-3:]), last_letter, embeddings, df)\n",
    "            context = \"\\n\".join(similar_verses['البيت'].tolist())\n",
    "            \n",
    "            prompt = f\"\"\"\n",
    "            أنت شاعر عربي ماهر. مهمتك هي إنتاج بيت شعري يتناسب مع سياق المحادثة الحالية ويبدأ بالحرف المطلوب.\n",
    "\n",
    "            سياق المحادثة:\n",
    "            {' '.join(conversation_history[-3:])}\n",
    "\n",
    "            الحرف الذي يجب أن يبدأ به البيت الجديد: {last_letter if last_letter else 'أي حرف'}\n",
    "\n",
    "            أمثلة على أبيات شعرية مشابهة:\n",
    "            {context}\n",
    "\n",
    "            قم بإنتاج بيت شعري جديد يتبع القواعد التالية:\n",
    "            1. يبدأ بالحرف المحدد (إذا كان محددًا).\n",
    "            2. يتكون من صدر وعجز متوازنين.\n",
    "            3. يتبع أحد البحور الشعرية العربية المعروفة.\n",
    "            4. يحتوي على قافية مناسبة.\n",
    "            5. يستخدم لغة عربية فصحى وتراكيب شعرية تقليدية.\n",
    "            6. له معنى شعري واضح ومتماسك.\n",
    "            7. يبدو كجزء أصيل من الشعر العربي الكلاسيكي.\n",
    "\n",
    "            أنتج البيت الشعري:\n",
    "            \"\"\"\n",
    "            generated_verse = generate_response(prompt, access_token)\n",
    "\n",
    "            if generated_verse and generated_verse not in used_verses:\n",
    "                print(f\"الذكاء الاصطناعي: {generated_verse}\")\n",
    "                used_verses.add(generated_verse)\n",
    "                last_letter = get_last_letter(generated_verse)\n",
    "                conversation_history.append(f\"AI: {generated_verse}\")\n",
    "                ai_turn = False\n",
    "            else:\n",
    "                print(\"لم أستطع إنتاج بيت شعري مناسب. دورك.\")\n",
    "                ai_turn = False\n",
    "\n",
    "# تشغيل اللعبة\n",
    "play_jazil()"
   ]
  }
 ],
 "metadata": {
  "kernelspec": {
   "display_name": "Python 3",
   "language": "python",
   "name": "python3"
  },
  "language_info": {
   "codemirror_mode": {
    "name": "ipython",
    "version": 3
   },
   "file_extension": ".py",
   "mimetype": "text/x-python",
   "name": "python",
   "nbconvert_exporter": "python",
   "pygments_lexer": "ipython3",
   "version": "3.11.9"
  }
 },
 "nbformat": 4,
 "nbformat_minor": 2
}
